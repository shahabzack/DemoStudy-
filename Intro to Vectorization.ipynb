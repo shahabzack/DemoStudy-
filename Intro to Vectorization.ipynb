{
 "cells": [
  {
   "cell_type": "markdown",
   "id": "f938cdbe",
   "metadata": {},
   "source": [
    "# Text Vectorization Methods"
   ]
  },
  {
   "cell_type": "markdown",
   "id": "9d932ca6",
   "metadata": {},
   "source": [
    "### 1 Bag-of-Word (BoW)"
   ]
  },
  {
   "cell_type": "code",
   "execution_count": 18,
   "id": "c47ffca0",
   "metadata": {},
   "outputs": [],
   "source": [
    "data = [\n",
    "    \"I love machine learning \",\n",
    "    \"Machine learning is amazing \",\n",
    "    \"I love data  science\",\n",
    "    \"Data science and machine learning are exciting\"\n",
    "]"
   ]
  },
  {
   "cell_type": "code",
   "execution_count": 19,
   "id": "15ef8564",
   "metadata": {},
   "outputs": [
    {
     "name": "stdout",
     "output_type": "stream",
     "text": [
      "Feature Names (Words) ['amazing' 'and' 'are' 'data' 'exciting' 'is' 'learning' 'love' 'machine'\n",
      " 'science']\n",
      "\n",
      "Bag of Words Matrix : \n",
      "  [[0 0 0 0 0 0 1 1 1 0]\n",
      " [1 0 0 0 0 1 1 0 1 0]\n",
      " [0 0 0 1 0 0 0 1 0 1]\n",
      " [0 1 1 1 1 0 1 0 1 1]]\n"
     ]
    }
   ],
   "source": [
    "from sklearn.feature_extraction.text import CountVectorizer\n",
    "\n",
    "\n",
    "vect = CountVectorizer()\n",
    "\n",
    "X = vect.fit_transform(data)\n",
    "\n",
    "print(\"Feature Names (Words)\",vect.get_feature_names_out())\n",
    "print()\n",
    "print(\"Bag of Words Matrix : \\n \",X.toarray())"
   ]
  },
  {
   "cell_type": "markdown",
   "id": "676cbe8f",
   "metadata": {},
   "source": [
    "### 2  One-Hot Encoding"
   ]
  },
  {
   "cell_type": "code",
   "execution_count": 21,
   "id": "d58cf633",
   "metadata": {},
   "outputs": [
    {
     "data": {
      "text/html": [
       "<div>\n",
       "<style scoped>\n",
       "    .dataframe tbody tr th:only-of-type {\n",
       "        vertical-align: middle;\n",
       "    }\n",
       "\n",
       "    .dataframe tbody tr th {\n",
       "        vertical-align: top;\n",
       "    }\n",
       "\n",
       "    .dataframe thead th {\n",
       "        text-align: right;\n",
       "    }\n",
       "</style>\n",
       "<table border=\"1\" class=\"dataframe\">\n",
       "  <thead>\n",
       "    <tr style=\"text-align: right;\">\n",
       "      <th></th>\n",
       "      <th>Fruit</th>\n",
       "    </tr>\n",
       "  </thead>\n",
       "  <tbody>\n",
       "    <tr>\n",
       "      <th>0</th>\n",
       "      <td>Apple</td>\n",
       "    </tr>\n",
       "    <tr>\n",
       "      <th>1</th>\n",
       "      <td>Banana</td>\n",
       "    </tr>\n",
       "    <tr>\n",
       "      <th>2</th>\n",
       "      <td>Orange</td>\n",
       "    </tr>\n",
       "    <tr>\n",
       "      <th>3</th>\n",
       "      <td>Banana</td>\n",
       "    </tr>\n",
       "    <tr>\n",
       "      <th>4</th>\n",
       "      <td>Apple</td>\n",
       "    </tr>\n",
       "  </tbody>\n",
       "</table>\n",
       "</div>"
      ],
      "text/plain": [
       "    Fruit\n",
       "0   Apple\n",
       "1  Banana\n",
       "2  Orange\n",
       "3  Banana\n",
       "4   Apple"
      ]
     },
     "execution_count": 21,
     "metadata": {},
     "output_type": "execute_result"
    }
   ],
   "source": [
    "import pandas as pd\n",
    "\n",
    "data = {'Fruit':['Apple','Banana','Orange','Banana','Apple']}\n",
    "\n",
    "df = pd.DataFrame(data)\n",
    "df.head()"
   ]
  },
  {
   "cell_type": "code",
   "execution_count": 24,
   "id": "d342aa8a",
   "metadata": {},
   "outputs": [],
   "source": [
    "one_hot = pd.get_dummies(df,columns=['Fruit']).astype(int)"
   ]
  },
  {
   "cell_type": "code",
   "execution_count": 25,
   "id": "c399eb27",
   "metadata": {},
   "outputs": [
    {
     "data": {
      "text/html": [
       "<div>\n",
       "<style scoped>\n",
       "    .dataframe tbody tr th:only-of-type {\n",
       "        vertical-align: middle;\n",
       "    }\n",
       "\n",
       "    .dataframe tbody tr th {\n",
       "        vertical-align: top;\n",
       "    }\n",
       "\n",
       "    .dataframe thead th {\n",
       "        text-align: right;\n",
       "    }\n",
       "</style>\n",
       "<table border=\"1\" class=\"dataframe\">\n",
       "  <thead>\n",
       "    <tr style=\"text-align: right;\">\n",
       "      <th></th>\n",
       "      <th>Fruit_Apple</th>\n",
       "      <th>Fruit_Banana</th>\n",
       "      <th>Fruit_Orange</th>\n",
       "    </tr>\n",
       "  </thead>\n",
       "  <tbody>\n",
       "    <tr>\n",
       "      <th>0</th>\n",
       "      <td>1</td>\n",
       "      <td>0</td>\n",
       "      <td>0</td>\n",
       "    </tr>\n",
       "    <tr>\n",
       "      <th>1</th>\n",
       "      <td>0</td>\n",
       "      <td>1</td>\n",
       "      <td>0</td>\n",
       "    </tr>\n",
       "    <tr>\n",
       "      <th>2</th>\n",
       "      <td>0</td>\n",
       "      <td>0</td>\n",
       "      <td>1</td>\n",
       "    </tr>\n",
       "    <tr>\n",
       "      <th>3</th>\n",
       "      <td>0</td>\n",
       "      <td>1</td>\n",
       "      <td>0</td>\n",
       "    </tr>\n",
       "    <tr>\n",
       "      <th>4</th>\n",
       "      <td>1</td>\n",
       "      <td>0</td>\n",
       "      <td>0</td>\n",
       "    </tr>\n",
       "  </tbody>\n",
       "</table>\n",
       "</div>"
      ],
      "text/plain": [
       "   Fruit_Apple  Fruit_Banana  Fruit_Orange\n",
       "0            1             0             0\n",
       "1            0             1             0\n",
       "2            0             0             1\n",
       "3            0             1             0\n",
       "4            1             0             0"
      ]
     },
     "execution_count": 25,
     "metadata": {},
     "output_type": "execute_result"
    }
   ],
   "source": [
    "one_hot.head()"
   ]
  },
  {
   "cell_type": "markdown",
   "id": "7e7929ad",
   "metadata": {},
   "source": [
    "### 3  Terms Frequency Inverse Document Frequency  (TF-IDF)"
   ]
  },
  {
   "cell_type": "code",
   "execution_count": 31,
   "id": "391361c3",
   "metadata": {},
   "outputs": [],
   "source": [
    "data = [\n",
    "    \"I love machine learning\",\n",
    "    \"Machine learning is exciting\",\n",
    "    \"I love data science\",\n",
    "    \"Data science and machine learning are exciting\"\n",
    "]"
   ]
  },
  {
   "cell_type": "code",
   "execution_count": 32,
   "id": "eb05f8ad",
   "metadata": {},
   "outputs": [
    {
     "name": "stdout",
     "output_type": "stream",
     "text": [
      "Feature Names (WOrds) :  ['and' 'are' 'data' 'exciting' 'is' 'learning' 'love' 'machine' 'science']\n",
      "\n",
      "TF-IDF Matrix  :  \n",
      "\n",
      " [[0.         0.         0.         0.         0.         0.53256952\n",
      "  0.65782931 0.53256952 0.        ]\n",
      " [0.         0.         0.         0.5051001  0.64065543 0.40892206\n",
      "  0.         0.40892206 0.        ]\n",
      " [0.         0.         0.57735027 0.         0.         0.\n",
      "  0.57735027 0.         0.57735027]\n",
      " [0.46226998 0.46226998 0.36445896 0.36445896 0.         0.29506094\n",
      "  0.         0.29506094 0.36445896]]\n"
     ]
    }
   ],
   "source": [
    "from sklearn.feature_extraction.text import TfidfVectorizer\n",
    "\n",
    "vect = TfidfVectorizer()\n",
    "\n",
    "X = vect.fit_transform(data)\n",
    "\n",
    "tfidf_matrix = X.toarray()\n",
    "\n",
    "\n",
    "print(\"Feature Names (WOrds) : \",vect.get_feature_names_out())\n",
    "print()\n",
    "print(\"TF-IDF Matrix  :  \\n\\n\",tfidf_matrix)"
   ]
  },
  {
   "cell_type": "code",
   "execution_count": null,
   "id": "40c36d54",
   "metadata": {},
   "outputs": [],
   "source": []
  }
 ],
 "metadata": {
  "kernelspec": {
   "display_name": "Python 3 (ipykernel)",
   "language": "python",
   "name": "python3"
  },
  "language_info": {
   "codemirror_mode": {
    "name": "ipython",
    "version": 3
   },
   "file_extension": ".py",
   "mimetype": "text/x-python",
   "name": "python",
   "nbconvert_exporter": "python",
   "pygments_lexer": "ipython3",
   "version": "3.11.5"
  }
 },
 "nbformat": 4,
 "nbformat_minor": 5
}
